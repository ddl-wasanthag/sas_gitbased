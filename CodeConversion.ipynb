{
 "cells": [
  {
   "cell_type": "markdown",
   "id": "65f85f03-5f28-441d-a5a4-23d79f0c4b06",
   "metadata": {},
   "source": [
    "# Code Conversion with LLM's"
   ]
  },
  {
   "cell_type": "markdown",
   "id": "58ce4ab3-ee09-4f02-9e0b-2bcf79e83c0e",
   "metadata": {
    "tags": []
   },
   "source": [
    "### Setup the project"
   ]
  },
  {
   "cell_type": "markdown",
   "id": "a4fc7187-8541-4514-843f-a52f28411749",
   "metadata": {},
   "source": [
    "This project requires the openai package  \n",
    "```pip install --user openai```  \n",
    "and an environment variable set with your [OpenAI API Key](https://platform.openai.com/account/api-keys)  \n",
    "export OPENAI_API_KEY=\\<insert key here\\>"
   ]
  },
  {
   "cell_type": "code",
   "execution_count": 7,
   "id": "06c6ec7d-8f8d-43e8-b81f-b02138fb0fd6",
   "metadata": {},
   "outputs": [
    {
     "name": "stdout",
     "output_type": "stream",
     "text": [
      "Python 3.9.15\n"
     ]
    }
   ],
   "source": [
    "!python --version"
   ]
  },
  {
   "cell_type": "code",
   "execution_count": 2,
   "id": "e7263113-bb5d-4ea9-b4b1-6401f5826f2e",
   "metadata": {
    "tags": []
   },
   "outputs": [],
   "source": [
    "import os\n",
    "import openai\n",
    "\n",
    "# OPENAI_API_KEY is a user environment variable set in your Domino account settings\n",
    "openai.api_key = os.getenv(\"OPENAI_API_KEY\")\n",
    "llmModel=\"text-davinci-003\"\n",
    "langFrom=\"SAS\"\n",
    "langTo=\"Python\""
   ]
  },
  {
   "cell_type": "markdown",
   "id": "23b49ffe-b1fe-4419-8961-5e0431cdbe59",
   "metadata": {
    "tags": []
   },
   "source": [
    "### Setup the prompt for the conversion\n",
    "Paste the code you want to convert between the triple quotes below"
   ]
  },
  {
   "cell_type": "code",
   "execution_count": 3,
   "id": "701c94d5-3eb9-47c1-8ba2-90e860af5a1f",
   "metadata": {
    "tags": []
   },
   "outputs": [],
   "source": [
    "code=\"\"\"\n",
    "/* Load the input dataset */\n",
    "proc import out=cars_data\n",
    "    datafile=\"/mnt/data/mtcars.csv\"\n",
    "    dbms=csv\n",
    "    replace;\n",
    "    getnames=YES;\n",
    "run;\n",
    "\n",
    "/* Sort the input dataset by displacement */\n",
    "proc sort data=cars_data;\n",
    "      by disp;\n",
    "run;\n",
    "\n",
    "/* Perform the linear regression */\n",
    "proc reg data=cars_data;\n",
    "      model mpg = disp / noprint;\n",
    "      output out=output_data predicted=mpg_predicted;\n",
    "run;\n",
    "\n",
    "/* Print the regression results */\n",
    "/* In this case a scatter plot with regression line best fit */\n",
    "proc sgplot data=output_data;\n",
    "      scatter x=disp y=mpg / markerattrs=(symbol=circlefilled) name='scatter';\n",
    "      series x=disp y=mpg_predicted / lineattrs=(color=blue) name='regression';\n",
    "      keylegend 'scatter' 'regression';\n",
    "run;\n",
    "\"\"\""
   ]
  },
  {
   "cell_type": "markdown",
   "id": "dc90eaa5-6cd7-4326-aa81-e56d04fd95a3",
   "metadata": {},
   "source": [
    "### Run the conversion"
   ]
  },
  {
   "cell_type": "code",
   "execution_count": 4,
   "id": "1ccbd45e-bc44-46a4-88e9-1b99e3a3c699",
   "metadata": {
    "tags": []
   },
   "outputs": [],
   "source": [
    "llmPrompt=\"##### Translate this program from {} into {}\\n### {}\".format(langFrom, langTo, langFrom)+code+\"### {}\".format(langTo)\n",
    "#print({llmPrompt})"
   ]
  },
  {
   "cell_type": "code",
   "execution_count": 5,
   "id": "04d28d9d-9a84-4408-bfcc-3601847c2a69",
   "metadata": {
    "tags": []
   },
   "outputs": [],
   "source": [
    "response = openai.Completion.create(\n",
    "  model=llmModel,\n",
    "  prompt=llmPrompt,\n",
    "  temperature=0,\n",
    "  max_tokens=300,\n",
    "  top_p=1.0,\n",
    "  frequency_penalty=0.0,\n",
    "  presence_penalty=0.0,\n",
    "  stop=[\"###\"]\n",
    ")"
   ]
  },
  {
   "cell_type": "markdown",
   "id": "88e2c800-3193-4330-b850-7a089723c5b2",
   "metadata": {},
   "source": [
    "# Results"
   ]
  },
  {
   "cell_type": "code",
   "execution_count": 6,
   "id": "e731b45c-895e-43e9-8db0-445e0065d4b2",
   "metadata": {
    "tags": []
   },
   "outputs": [
    {
     "name": "stdout",
     "output_type": "stream",
     "text": [
      "\n",
      "# Load the input dataset\n",
      "import pandas as pd\n",
      "cars_data = pd.read_csv(\"/mnt/data/mtcars.csv\")\n",
      "\n",
      "# Sort the input dataset by displacement\n",
      "cars_data.sort_values(by='disp', inplace=True)\n",
      "\n",
      "# Perform the linear regression\n",
      "import statsmodels.api as sm\n",
      "X = cars_data['disp']\n",
      "y = cars_data['mpg']\n",
      "X = sm.add_constant(X)\n",
      "model = sm.OLS(y, X).fit()\n",
      "\n",
      "# Print the regression results\n",
      "# In this case a scatter plot with regression line best fit\n",
      "import matplotlib.pyplot as plt\n",
      "plt.scatter(cars_data['disp'], cars_data['mpg'], label='scatter')\n",
      "plt.plot(cars_data['disp'], model.predict(X), color='blue', label='regression')\n",
      "plt.legend()\n",
      "plt.show()\n"
     ]
    }
   ],
   "source": [
    "print(response[\"choices\"][0][\"text\"])"
   ]
  },
  {
   "cell_type": "markdown",
   "id": "e8d70058-e626-463e-80c4-8dda7e431438",
   "metadata": {},
   "source": [
    "---\n",
    "**Copy the code above into the cell below**  \n",
    "Then run the cell to verify a working conversion"
   ]
  },
  {
   "cell_type": "code",
   "execution_count": 9,
   "id": "6fe75182-4d3a-4de4-8c6e-31ab86bf5c4a",
   "metadata": {},
   "outputs": [
    {
     "data": {
      "image/png": "[encoded data removed]",
      "text/plain": [
       "<Figure size 432x288 with 1 Axes>"
      ]
     },
     "metadata": {
      "needs_background": "light"
     },
     "output_type": "display_data"
    }
   ],
   "source": [
    "# Load the input dataset\n",
    "import pandas as pd\n",
    "cars_data = pd.read_csv(\"/mnt/data/mtcars.csv\")\n",
    "\n",
    "# Sort the input dataset by displacement\n",
    "cars_data.sort_values(by='disp', inplace=True)\n",
    "\n",
    "# Perform the linear regression\n",
    "import statsmodels.api as sm\n",
    "X = cars_data['disp']\n",
    "y = cars_data['mpg']\n",
    "X = sm.add_constant(X)\n",
    "model = sm.OLS(y, X).fit()\n",
    "\n",
    "# Print the regression results\n",
    "# In this case a scatter plot with regression line best fit\n",
    "import matplotlib.pyplot as plt\n",
    "plt.scatter(cars_data['disp'], cars_data['mpg'], label='scatter')\n",
    "plt.plot(cars_data['disp'], model.predict(X), color='blue', label='regression')\n",
    "plt.legend()\n",
    "plt.show()"
   ]
  },
  {
   "cell_type": "code",
   "execution_count": null,
   "id": "4bb56e26-6b65-406b-9eb9-de508ac4207b",
   "metadata": {},
   "outputs": [],
   "source": []
  }
 ],
 "metadata": {
  "kernelspec": {
   "display_name": "Python 3",
   "language": "python",
   "name": "python3"
  },
  "language_info": {
   "codemirror_mode": {
    "name": "ipython",
    "version": 3
   },
   "file_extension": ".py",
   "mimetype": "text/x-python",
   "name": "python",
   "nbconvert_exporter": "python",
   "pygments_lexer": "ipython3",
   "version": "3.9.15"
  }
 },
 "nbformat": 4,
 "nbformat_minor": 5
}
